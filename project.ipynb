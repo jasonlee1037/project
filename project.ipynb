{
 "metadata": {
  "name": "",
  "signature": "sha256:1bb3493faff7754a3d78acc049627d5dc740d8400bbba30a241463994f59e638"
 },
 "nbformat": 3,
 "nbformat_minor": 0,
 "worksheets": [
  {
   "cells": [
    {
     "cell_type": "code",
     "collapsed": false,
     "input": [
      "#turn a string into ASCII\n",
      "teststring = \"If you're reading this, it's too late!\"\n",
      "ASCIIlist = [ord(c) for c in teststring]\n",
      "print ASCIIlist"
     ],
     "language": "python",
     "metadata": {},
     "outputs": [
      {
       "output_type": "stream",
       "stream": "stdout",
       "text": [
        "[73, 102, 32, 121, 111, 117, 39, 114, 101, 32, 114, 101, 97, 100, 105, 110, 103, 32, 116, 104, 105, 115, 44, 32, 105, 116, 39, 115, 32, 116, 111, 111, 32, 108, 97, 116, 101, 33]\n"
       ]
      }
     ],
     "prompt_number": 3
    },
    {
     "cell_type": "code",
     "collapsed": false,
     "input": [
      "#turn a ASCIIlist into a list of binary numbers\n",
      "binlist = [bin(a)[2:] for a in ASCIIlist]\n",
      "\n",
      "#convert binlist to str and pad zeros so that they are all 9 char long\n",
      "#all of the values in the list should be 7char long, so that we know where to cut between each ASCII char\n",
      "binlistpad = [b.rjust(9,\"0\") for b in binlist]\n",
      "print binlistpad"
     ],
     "language": "python",
     "metadata": {},
     "outputs": [
      {
       "output_type": "stream",
       "stream": "stdout",
       "text": [
        "['001001001', '001100110', '000100000', '001111001', '001101111', '001110101', '000100111', '001110010', '001100101', '000100000', '001110010', '001100101', '001100001', '001100100', '001101001', '001101110', '001100111', '000100000', '001110100', '001101000', '001101001', '001110011', '000101100', '000100000', '001101001', '001110100', '000100111', '001110011', '000100000', '001110100', '001101111', '001101111', '000100000', '001101100', '001100001', '001110100', '001100101', '000100001']\n"
       ]
      }
     ],
     "prompt_number": 4
    },
    {
     "cell_type": "code",
     "collapsed": false,
     "input": [
      "#convert binlistpad to ATGC list\n",
      "\n",
      "bases = list(\"ACGT\")\n",
      "from itertools import permutations\n",
      "pairs = [\"\".join(p) for p in permutations(bases, 2) ]\n",
      "pairs.remove(\"GC\")\n",
      "print pairs\n",
      "import random\n",
      "print random.choice(pairs)"
     ],
     "language": "python",
     "metadata": {},
     "outputs": [
      {
       "output_type": "stream",
       "stream": "stdout",
       "text": [
        "['AC', 'AG', 'AT', 'CA', 'CG', 'CT', 'GA', 'GT', 'TA', 'TC', 'TG']\n",
        "AT\n"
       ]
      }
     ],
     "prompt_number": 5
    },
    {
     "cell_type": "code",
     "collapsed": false,
     "input": [
      "def callback(matchobj):\n",
      "    return random.choice(pairs)\n",
      "\n",
      "#teststr = 'test test test test'\n",
      "#ret = re.sub(r'test', callback, teststr)\n",
      "\n",
      "dnalist = [blp.replace('1', 'GC') for blp in binlistpad]\n",
      "dnastr = ''.join(dnalist)\n",
      "import re\n",
      "dnastrnew = re.sub(r'0', callback , dnastr)\n",
      "print dnastrnew"
     ],
     "language": "python",
     "metadata": {},
     "outputs": [
      {
       "output_type": "stream",
       "stream": "stdout",
       "text": [
        "CTCAGCTGTAGCTAACGCCAATGCGCAGGAGCGCTCCGAGACGCGAATTGGTAGCAGTGCGCGCGCGAACGCTAGAGCGCGAGCGCGCGCGTGAGCGCGCACGCTGGCCAATCAGCCTACGCGCGCCGCGGCGCGCGAACGCCAGTTGGCGCATTAGCGAGCACGAACGCTAAGCAACTGGTAGGCGCGCACTCGCCTATTAGCGCCTTAGCAGGCATTAGCGCTCTCGAATGCCTTCGCGCCAAGGCCAACTACAGCGCAGGCCAACGCTATGGCGCTAGCGCGCCAGAATGCGCCGATGCGCGCGTTCCAGCCTTCTCACACCTCTGCGCGCCGGCGATCGAATGCGCCAGCCATGCTTCCTGCGCTGGCCGAGGCGTTCGCGCGCTGCGGCGCACCGAGGCTGGCGCATCTCACTACGCATTGCGTGTAACATGCGCATGCAGTAGCTAAGGCGCGCCGGCATCGATCTAGGCACCTGCGCGCTGTAGCGCGCTGCGGCGCTGCGAGGCCATGGTACGTCTATGCGCGCAGGCCTCTCTACGCGCGTGCGCGCGCCGGAGCGCAGGCGCGCGCGACAGAGCCGAGCGGTCACTCAGCGCTAGCGCTGCTACTGGCGCGATGGTGAGCGAGAGCGCGCGAGCCACACAGTGCGCGACAGCAGGCCAGTGAGCTGCGGATCGC\n"
       ]
      }
     ],
     "prompt_number": 6
    },
    {
     "cell_type": "code",
     "collapsed": false,
     "input": [
      "#DNA to AA sequence converter\n",
      "gencode = {\n",
      "    'ATA':'I', 'ATC':'I', 'ATT':'I', 'ATG':'M',\n",
      "    'ACA':'T', 'ACC':'T', 'ACG':'T', 'ACT':'T',\n",
      "    'AAC':'N', 'AAT':'N', 'AAA':'K', 'AAG':'K',\n",
      "    'AGC':'S', 'AGT':'S', 'AGA':'R', 'AGG':'R',\n",
      "    'CTA':'L', 'CTC':'L', 'CTG':'L', 'CTT':'L',\n",
      "    'CCA':'P', 'CCC':'P', 'CCG':'P', 'CCT':'P',\n",
      "    'CAC':'H', 'CAT':'H', 'CAA':'Q', 'CAG':'Q',\n",
      "    'CGA':'R', 'CGC':'R', 'CGG':'R', 'CGT':'R',\n",
      "    'GTA':'V', 'GTC':'V', 'GTG':'V', 'GTT':'V',\n",
      "    'GCA':'A', 'GCC':'A', 'GCG':'A', 'GCT':'A',\n",
      "    'GAC':'D', 'GAT':'D', 'GAA':'E', 'GAG':'E',\n",
      "    'GGA':'G', 'GGC':'G', 'GGG':'G', 'GGT':'G',\n",
      "    'TCA':'S', 'TCC':'S', 'TCG':'S', 'TCT':'S',\n",
      "    'TTC':'F', 'TTT':'F', 'TTA':'L', 'TTG':'L',\n",
      "    'TAC':'Y', 'TAT':'Y', 'TAA':'X', 'TAG':'X',\n",
      "    'TGC':'C', 'TGT':'C', 'TGA':'X', 'TGG':'W'}\n",
      "\n",
      "codonifiedlist = [dnastrnew[i:i+3] for i in range(0, len(dnastrnew), 3)]\n",
      "print codonifiedlist\n",
      "transllist = [gencode[t] for t in codonifiedlist]\n",
      "print transllist"
     ],
     "language": "python",
     "metadata": {},
     "outputs": [
      {
       "output_type": "stream",
       "stream": "stdout",
       "text": [
        "['CTC', 'AGC', 'TGT', 'AGC', 'TAA', 'CGC', 'CAA', 'TGC', 'GCA', 'GGA', 'GCG', 'CTC', 'CGA', 'GAC', 'GCG', 'AAT', 'TGG', 'TAG', 'CAG', 'TGC', 'GCG', 'CGC', 'GAA', 'CGC', 'TAG', 'AGC', 'GCG', 'AGC', 'GCG', 'CGC', 'GTG', 'AGC', 'GCG', 'CAC', 'GCT', 'GGC', 'CAA', 'TCA', 'GCC', 'TAC', 'GCG', 'CGC', 'CGC', 'GGC', 'GCG', 'CGA', 'ACG', 'CCA', 'GTT', 'GGC', 'GCA', 'TTA', 'GCG', 'AGC', 'ACG', 'AAC', 'GCT', 'AAG', 'CAA', 'CTG', 'GTA', 'GGC', 'GCG', 'CAC', 'TCG', 'CCT', 'ATT', 'AGC', 'GCC', 'TTA', 'GCA', 'GGC', 'ATT', 'AGC', 'GCT', 'CTC', 'GAA', 'TGC', 'CTT', 'CGC', 'GCC', 'AAG', 'GCC', 'AAC', 'TAC', 'AGC', 'GCA', 'GGC', 'CAA', 'CGC', 'TAT', 'GGC', 'GCT', 'AGC', 'GCG', 'CCA', 'GAA', 'TGC', 'GCC', 'GAT', 'GCG', 'CGC', 'GTT', 'CCA', 'GCC', 'TTC', 'TCA', 'CAC', 'CTC', 'TGC', 'GCG', 'CCG', 'GCG', 'ATC', 'GAA', 'TGC', 'GCC', 'AGC', 'CAT', 'GCT', 'TCC', 'TGC', 'GCT', 'GGC', 'CGA', 'GGC', 'GTT', 'CGC', 'GCG', 'CTG', 'CGG', 'CGC', 'ACC', 'GAG', 'GCT', 'GGC', 'GCA', 'TCT', 'CAC', 'TAC', 'GCA', 'TTG', 'CGT', 'GTA', 'ACA', 'TGC', 'GCA', 'TGC', 'AGT', 'AGC', 'TAA', 'GGC', 'GCG', 'CCG', 'GCA', 'TCG', 'ATC', 'TAG', 'GCA', 'CCT', 'GCG', 'CGC', 'TGT', 'AGC', 'GCG', 'CTG', 'CGG', 'CGC', 'TGC', 'GAG', 'GCC', 'ATG', 'GTA', 'CGT', 'CTA', 'TGC', 'GCG', 'CAG', 'GCC', 'TCT', 'CTA', 'CGC', 'GCG', 'TGC', 'GCG', 'CGC', 'CGG', 'AGC', 'GCA', 'GGC', 'GCG', 'CGC', 'GAC', 'AGA', 'GCC', 'GAG', 'CGG', 'TCA', 'CTC', 'AGC', 'GCT', 'AGC', 'GCT', 'GCT', 'ACT', 'GGC', 'GCG', 'ATG', 'GTG', 'AGC', 'GAG', 'AGC', 'GCG', 'CGA', 'GCC', 'ACA', 'CAG', 'TGC', 'GCG', 'ACA', 'GCA', 'GGC', 'CAG', 'TGA', 'GCT', 'GCG', 'GAT', 'CGC']\n",
        "['L', 'S', 'C', 'S', 'X', 'R', 'Q', 'C', 'A', 'G', 'A', 'L', 'R', 'D', 'A', 'N', 'W', 'X', 'Q', 'C', 'A', 'R', 'E', 'R', 'X', 'S', 'A', 'S', 'A', 'R', 'V', 'S', 'A', 'H', 'A', 'G', 'Q', 'S', 'A', 'Y', 'A', 'R', 'R', 'G', 'A', 'R', 'T', 'P', 'V', 'G', 'A', 'L', 'A', 'S', 'T', 'N', 'A', 'K', 'Q', 'L', 'V', 'G', 'A', 'H', 'S', 'P', 'I', 'S', 'A', 'L', 'A', 'G', 'I', 'S', 'A', 'L', 'E', 'C', 'L', 'R', 'A', 'K', 'A', 'N', 'Y', 'S', 'A', 'G', 'Q', 'R', 'Y', 'G', 'A', 'S', 'A', 'P', 'E', 'C', 'A', 'D', 'A', 'R', 'V', 'P', 'A', 'F', 'S', 'H', 'L', 'C', 'A', 'P', 'A', 'I', 'E', 'C', 'A', 'S', 'H', 'A', 'S', 'C', 'A', 'G', 'R', 'G', 'V', 'R', 'A', 'L', 'R', 'R', 'T', 'E', 'A', 'G', 'A', 'S', 'H', 'Y', 'A', 'L', 'R', 'V', 'T', 'C', 'A', 'C', 'S', 'S', 'X', 'G', 'A', 'P', 'A', 'S', 'I', 'X', 'A', 'P', 'A', 'R', 'C', 'S', 'A', 'L', 'R', 'R', 'C', 'E', 'A', 'M', 'V', 'R', 'L', 'C', 'A', 'Q', 'A', 'S', 'L', 'R', 'A', 'C', 'A', 'R', 'R', 'S', 'A', 'G', 'A', 'R', 'D', 'R', 'A', 'E', 'R', 'S', 'L', 'S', 'A', 'S', 'A', 'A', 'T', 'G', 'A', 'M', 'V', 'S', 'E', 'S', 'A', 'R', 'A', 'T', 'Q', 'C', 'A', 'T', 'A', 'G', 'Q', 'X', 'A', 'A', 'D', 'R']\n"
       ]
      }
     ],
     "prompt_number": 16
    },
    {
     "cell_type": "code",
     "collapsed": false,
     "input": [
      "#AA classification\n",
      "aliphatic = [\"A\",\"I\",\"L\",\"V\",\"G\",\"P\"]\n",
      "aromatic = [\"F\",\"W\",\"Y\"]\n",
      "polarneutral = [\"N\",\"C\",\"M\",\"S\",\"T\",\"Q\"]\n",
      "acidic = [\"D\",\"E\"]\n",
      "basic = [\"R\",\"H\",\"K\"]\n",
      "\n",
      "from collections import Counter\n",
      "Counter(transllist)"
     ],
     "language": "python",
     "metadata": {},
     "outputs": [
      {
       "metadata": {},
       "output_type": "pyout",
       "prompt_number": 21,
       "text": [
        "Counter({'A': 59, 'R': 28, 'S': 27, 'C': 15, 'G': 15, 'L': 14, 'E': 8, 'Q': 8, 'V': 8, 'P': 7, 'T': 7, 'X': 6, 'H': 5, 'D': 4, 'I': 4, 'Y': 4, 'N': 3, 'K': 2, 'M': 2, 'F': 1, 'W': 1})"
       ]
      }
     ],
     "prompt_number": 21
    },
    {
     "cell_type": "code",
     "collapsed": false,
     "input": [],
     "language": "python",
     "metadata": {},
     "outputs": []
    }
   ],
   "metadata": {}
  }
 ]
}