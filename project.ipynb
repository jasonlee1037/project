{
 "metadata": {
  "name": "",
  "signature": "sha256:e6708b323e5897ef05802297ce1a4b89a393b2b7d411f259c56aab0aa6e03c43"
 },
 "nbformat": 3,
 "nbformat_minor": 0,
 "worksheets": [
  {
   "cells": [
    {
     "cell_type": "code",
     "collapsed": false,
     "input": [
      "#turn a string into ASCII\n",
      "teststring = \"If you're reading this, it's too late!\"\n",
      "ASCIIlist = [ord(c) for c in teststring]\n",
      "print ASCIIlist"
     ],
     "language": "python",
     "metadata": {},
     "outputs": [
      {
       "output_type": "stream",
       "stream": "stdout",
       "text": [
        "[73, 102, 32, 121, 111, 117, 39, 114, 101, 32, 114, 101, 97, 100, 105, 110, 103, 32, 116, 104, 105, 115, 44, 32, 105, 116, 39, 115, 32, 116, 111, 111, 32, 108, 97, 116, 101, 33]\n"
       ]
      }
     ],
     "prompt_number": 1
    },
    {
     "cell_type": "code",
     "collapsed": false,
     "input": [
      "#turn a ASCIIlist into a list of binary numbers\n",
      "binlist = [bin(a)[2:] for a in ASCIIlist]\n",
      "\n",
      "#convert binlist to str and pad zeros so that they are all 9 char long\n",
      "#all of the values in the list should be 7char long, so that we know where to cut between each ASCII char\n",
      "binlistpad = [b.rjust(9,\"0\") for b in binlist]\n",
      "print binlistpad"
     ],
     "language": "python",
     "metadata": {},
     "outputs": [
      {
       "output_type": "stream",
       "stream": "stdout",
       "text": [
        "['001001001', '001100110', '000100000', '001111001', '001101111', '001110101', '000100111', '001110010', '001100101', '000100000', '001110010', '001100101', '001100001', '001100100', '001101001', '001101110', '001100111', '000100000', '001110100', '001101000', '001101001', '001110011', '000101100', '000100000', '001101001', '001110100', '000100111', '001110011', '000100000', '001110100', '001101111', '001101111', '000100000', '001101100', '001100001', '001110100', '001100101', '000100001']\n"
       ]
      }
     ],
     "prompt_number": 2
    },
    {
     "cell_type": "code",
     "collapsed": false,
     "input": [
      "#convert binlistpad to ATGC list\n",
      "\n",
      "bases = list(\"ACGT\")\n",
      "from itertools import permutations\n",
      "pairs = [\"\".join(p) for p in permutations(bases, 2) ]\n",
      "pairs.remove(\"GC\")\n",
      "print pairs\n",
      "import random\n",
      "print random.choice(pairs)"
     ],
     "language": "python",
     "metadata": {},
     "outputs": [
      {
       "output_type": "stream",
       "stream": "stdout",
       "text": [
        "['AC', 'AG', 'AT', 'CA', 'CG', 'CT', 'GA', 'GT', 'TA', 'TC', 'TG']\n",
        "CT\n"
       ]
      }
     ],
     "prompt_number": 3
    },
    {
     "cell_type": "code",
     "collapsed": false,
     "input": [
      "def callback(matchobj):\n",
      "    return random.choice(pairs)\n",
      "\n",
      "#teststr = 'test test test test'\n",
      "#ret = re.sub(r'test', callback, teststr)\n",
      "\n",
      "dnalist = [blp.replace('1', 'GC') for blp in binlistpad]\n",
      "dnastr = ''.join(dnalist)\n",
      "import re\n",
      "dnastrnew = re.sub(r'0', callback , dnastr)\n",
      "print dnastrnew"
     ],
     "language": "python",
     "metadata": {},
     "outputs": [
      {
       "output_type": "stream",
       "stream": "stdout",
       "text": [
        "GATGGCATACGCGTGTGCTGTAGCGCCTACGCGCCGTGACAGGCGAGTTATCAGGAACGCGCGCGCGAAGGCAGTGGCGCATGCGCGCGCCGGAGCGCGCTGGCTGGCTGAGCTGCGATCGCGCGCTGCGGCGCGCTCGAGCCACTATGCGCCTACGCATGCTCTAACGCCGGAGTCTCTGTGAGCGCGCAGGAGCAGGATGGCGCAGACGCATGCTAACGCGCCGCGGTCTGCCAGAGCGCGTTAGCCGTCCAAGGCGCTCGCGATCGCAGGTGCGCCAGCGCGCTAGTACGCGCTGAGGCGCGCAGGAAGGCGTCAGATGCTATCTGCGCGCACGCCTCGACATGCGCCTGCTCATATCGTCGCGCTGGCCAGTGCCGCAGCGCGCTGATGCGCATGTTAGCATGCGCTATGCTTACAGCAGCATACTGACTACGCGCACGCTCGTGCACTAGCGCGCGTGCTAGATATCTAGCACGTGCGCGCGACGGCGCGCCACTGCGCTACGTCGCACCTTGCGTCCATAGCGCGCCTGCATGTCATGGCGCCAGCGCGCGCATGAGCGCTCGCGCGCGCGTCTATGCTCATATACCGATAGGCGCGAGCGCATGTGTCAGCGCATCTCGGAGCCTACGCGCGCGTGCAGCGCATCGCGCATATGCGTGCCTTGATGCATAGCTGAGC\n"
       ]
      }
     ],
     "prompt_number": 4
    },
    {
     "cell_type": "code",
     "collapsed": false,
     "input": [
      "#DNA to AA sequence converter\n",
      "gencode = {\n",
      "    'ATA':'I', 'ATC':'I', 'ATT':'I', 'ATG':'M',\n",
      "    'ACA':'T', 'ACC':'T', 'ACG':'T', 'ACT':'T',\n",
      "    'AAC':'N', 'AAT':'N', 'AAA':'K', 'AAG':'K',\n",
      "    'AGC':'S', 'AGT':'S', 'AGA':'R', 'AGG':'R',\n",
      "    'CTA':'L', 'CTC':'L', 'CTG':'L', 'CTT':'L',\n",
      "    'CCA':'P', 'CCC':'P', 'CCG':'P', 'CCT':'P',\n",
      "    'CAC':'H', 'CAT':'H', 'CAA':'Q', 'CAG':'Q',\n",
      "    'CGA':'R', 'CGC':'R', 'CGG':'R', 'CGT':'R',\n",
      "    'GTA':'V', 'GTC':'V', 'GTG':'V', 'GTT':'V',\n",
      "    'GCA':'A', 'GCC':'A', 'GCG':'A', 'GCT':'A',\n",
      "    'GAC':'D', 'GAT':'D', 'GAA':'E', 'GAG':'E',\n",
      "    'GGA':'G', 'GGC':'G', 'GGG':'G', 'GGT':'G',\n",
      "    'TCA':'S', 'TCC':'S', 'TCG':'S', 'TCT':'S',\n",
      "    'TTC':'F', 'TTT':'F', 'TTA':'L', 'TTG':'L',\n",
      "    'TAC':'Y', 'TAT':'Y', 'TAA':'X', 'TAG':'X',\n",
      "    'TGC':'C', 'TGT':'C', 'TGA':'X', 'TGG':'W'}\n",
      "\n",
      "codonifiedlist = [dnastrnew[i:i+3] for i in range(0, len(dnastrnew), 3)]\n",
      "print codonifiedlist\n",
      "transllist = [gencode[t] for t in codonifiedlist]\n",
      "print transllist"
     ],
     "language": "python",
     "metadata": {},
     "outputs": [
      {
       "output_type": "stream",
       "stream": "stdout",
       "text": [
        "['GAT', 'GGC', 'ATA', 'CGC', 'GTG', 'TGC', 'TGT', 'AGC', 'GCC', 'TAC', 'GCG', 'CCG', 'TGA', 'CAG', 'GCG', 'AGT', 'TAT', 'CAG', 'GAA', 'CGC', 'GCG', 'CGC', 'GAA', 'GGC', 'AGT', 'GGC', 'GCA', 'TGC', 'GCG', 'CGC', 'CGG', 'AGC', 'GCG', 'CTG', 'GCT', 'GGC', 'TGA', 'GCT', 'GCG', 'ATC', 'GCG', 'CGC', 'TGC', 'GGC', 'GCG', 'CTC', 'GAG', 'CCA', 'CTA', 'TGC', 'GCC', 'TAC', 'GCA', 'TGC', 'TCT', 'AAC', 'GCC', 'GGA', 'GTC', 'TCT', 'GTG', 'AGC', 'GCG', 'CAG', 'GAG', 'CAG', 'GAT', 'GGC', 'GCA', 'GAC', 'GCA', 'TGC', 'TAA', 'CGC', 'GCC', 'GCG', 'GTC', 'TGC', 'CAG', 'AGC', 'GCG', 'TTA', 'GCC', 'GTC', 'CAA', 'GGC', 'GCT', 'CGC', 'GAT', 'CGC', 'AGG', 'TGC', 'GCC', 'AGC', 'GCG', 'CTA', 'GTA', 'CGC', 'GCT', 'GAG', 'GCG', 'CGC', 'AGG', 'AAG', 'GCG', 'TCA', 'GAT', 'GCT', 'ATC', 'TGC', 'GCG', 'CAC', 'GCC', 'TCG', 'ACA', 'TGC', 'GCC', 'TGC', 'TCA', 'TAT', 'CGT', 'CGC', 'GCT', 'GGC', 'CAG', 'TGC', 'CGC', 'AGC', 'GCG', 'CTG', 'ATG', 'CGC', 'ATG', 'TTA', 'GCA', 'TGC', 'GCT', 'ATG', 'CTT', 'ACA', 'GCA', 'GCA', 'TAC', 'TGA', 'CTA', 'CGC', 'GCA', 'CGC', 'TCG', 'TGC', 'ACT', 'AGC', 'GCG', 'CGT', 'GCT', 'AGA', 'TAT', 'CTA', 'GCA', 'CGT', 'GCG', 'CGC', 'GAC', 'GGC', 'GCG', 'CCA', 'CTG', 'CGC', 'TAC', 'GTC', 'GCA', 'CCT', 'TGC', 'GTC', 'CAT', 'AGC', 'GCG', 'CCT', 'GCA', 'TGT', 'CAT', 'GGC', 'GCC', 'AGC', 'GCG', 'CGC', 'ATG', 'AGC', 'GCT', 'CGC', 'GCG', 'CGC', 'GTC', 'TAT', 'GCT', 'CAT', 'ATA', 'CCG', 'ATA', 'GGC', 'GCG', 'AGC', 'GCA', 'TGT', 'GTC', 'AGC', 'GCA', 'TCT', 'CGG', 'AGC', 'CTA', 'CGC', 'GCG', 'CGT', 'GCA', 'GCG', 'CAT', 'CGC', 'GCA', 'TAT', 'GCG', 'TGC', 'CTT', 'GAT', 'GCA', 'TAG', 'CTG', 'AGC']\n",
        "['D', 'G', 'I', 'R', 'V', 'C', 'C', 'S', 'A', 'Y', 'A', 'P', 'X', 'Q', 'A', 'S', 'Y', 'Q', 'E', 'R', 'A', 'R', 'E', 'G', 'S', 'G', 'A', 'C', 'A', 'R', 'R', 'S', 'A', 'L', 'A', 'G', 'X', 'A', 'A', 'I', 'A', 'R', 'C', 'G', 'A', 'L', 'E', 'P', 'L', 'C', 'A', 'Y', 'A', 'C', 'S', 'N', 'A', 'G', 'V', 'S', 'V', 'S', 'A', 'Q', 'E', 'Q', 'D', 'G', 'A', 'D', 'A', 'C', 'X', 'R', 'A', 'A', 'V', 'C', 'Q', 'S', 'A', 'L', 'A', 'V', 'Q', 'G', 'A', 'R', 'D', 'R', 'R', 'C', 'A', 'S', 'A', 'L', 'V', 'R', 'A', 'E', 'A', 'R', 'R', 'K', 'A', 'S', 'D', 'A', 'I', 'C', 'A', 'H', 'A', 'S', 'T', 'C', 'A', 'C', 'S', 'Y', 'R', 'R', 'A', 'G', 'Q', 'C', 'R', 'S', 'A', 'L', 'M', 'R', 'M', 'L', 'A', 'C', 'A', 'M', 'L', 'T', 'A', 'A', 'Y', 'X', 'L', 'R', 'A', 'R', 'S', 'C', 'T', 'S', 'A', 'R', 'A', 'R', 'Y', 'L', 'A', 'R', 'A', 'R', 'D', 'G', 'A', 'P', 'L', 'R', 'Y', 'V', 'A', 'P', 'C', 'V', 'H', 'S', 'A', 'P', 'A', 'C', 'H', 'G', 'A', 'S', 'A', 'R', 'M', 'S', 'A', 'R', 'A', 'R', 'V', 'Y', 'A', 'H', 'I', 'P', 'I', 'G', 'A', 'S', 'A', 'C', 'V', 'S', 'A', 'S', 'R', 'S', 'L', 'R', 'A', 'R', 'A', 'A', 'H', 'R', 'A', 'Y', 'A', 'C', 'L', 'D', 'A', 'X', 'L', 'S']\n"
       ]
      }
     ],
     "prompt_number": 5
    },
    {
     "cell_type": "code",
     "collapsed": false,
     "input": [
      "#AA classification\n",
      "aliphatic = [\"A\",\"I\",\"L\",\"V\",\"G\",\"P\"]\n",
      "aromatic = [\"F\",\"W\",\"Y\"]\n",
      "polarneutral = [\"N\",\"C\",\"M\",\"S\",\"T\",\"Q\"]\n",
      "acidic = [\"D\",\"E\"]\n",
      "basic = [\"R\",\"H\",\"K\"]\n",
      "\n",
      "from collections import Counter\n",
      "translc = Counter(transllist)\n",
      "\n",
      "def AAclasscounter (AAclass):\n",
      "    c=0\n",
      "    classcounter = 0\n",
      "    for c in range(0, len(AAclass)):\n",
      "        classcounter += translc[AAclass[c]]\n",
      "        c+=1\n",
      "    transllength = len(transllist)\n",
      "    classpercent = classcounter/transllength\n",
      "    print classpercent\n",
      "\n",
      "def AAmain():\n",
      "    className = raw_input(\"What class of amino acids do you want to know the percentage of?\\n[a] for aliphatic amino acids\\n[b] for aromatic amino acids\\n[c] for polar neutral amino acids\\n[d] for acidic amino acids\\n[e] for basic amino acids\")\n",
      "    if className == \"a\":\n",
      "        AAclasscounter(aliphatic)\n",
      "    if className == \"b\":\n",
      "        AAclasscounter(aromatic)\n",
      "    if className == \"c\":\n",
      "        AAclasscounter(polarneutral)\n",
      "    if className == \"d\":\n",
      "        AAclasscounter(acidic)\n",
      "    if className == \"e\":\n",
      "        AAclasscounter(basic)\n",
      "AAmain()"
     ],
     "language": "python",
     "metadata": {},
     "outputs": [
      {
       "name": "stdout",
       "output_type": "stream",
       "stream": "stdout",
       "text": [
        "What class of amino acids do you want to know the percentage of?\n",
        "[a] for aliphatic amino acids\n",
        "[b] for aromatic amino acids\n",
        "[c] for polar neutral amino acids\n",
        "[d] for acidic amino acids\n",
        "[e] for basic amino acidsa\n"
       ]
      },
      {
       "output_type": "stream",
       "stream": "stdout",
       "text": [
        "0\n"
       ]
      }
     ],
     "prompt_number": 29
    },
    {
     "cell_type": "code",
     "collapsed": false,
     "input": [],
     "language": "python",
     "metadata": {},
     "outputs": [],
     "prompt_number": 24
    },
    {
     "cell_type": "code",
     "collapsed": false,
     "input": [],
     "language": "python",
     "metadata": {},
     "outputs": [],
     "prompt_number": 13
    },
    {
     "cell_type": "code",
     "collapsed": false,
     "input": [],
     "language": "python",
     "metadata": {},
     "outputs": []
    }
   ],
   "metadata": {}
  }
 ]
}
